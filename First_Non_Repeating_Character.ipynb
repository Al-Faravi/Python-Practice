{
  "nbformat": 4,
  "nbformat_minor": 0,
  "metadata": {
    "colab": {
      "provenance": []
    },
    "kernelspec": {
      "name": "python3",
      "display_name": "Python 3"
    },
    "language_info": {
      "name": "python"
    }
  },
  "cells": [
    {
      "cell_type": "code",
      "execution_count": 1,
      "metadata": {
        "id": "-uNrUtUcszSf"
      },
      "outputs": [],
      "source": [
        "def first_non_repeating_char(s):\n",
        "    char_count = {}\n",
        "\n",
        "    # Count each character\n",
        "    for char in s:\n",
        "        char_count[char] = char_count.get(char, 0) + 1\n",
        "\n",
        "    # Find the first character with count 1\n",
        "    for char in s:\n",
        "        if char_count[char] == 1:\n",
        "            return char\n",
        "    return \"None\""
      ]
    },
    {
      "cell_type": "code",
      "source": [
        "user_input = input(\"Enter a string: \")\n",
        "result = first_non_repeating_char(user_input)\n",
        "print(\"First non-repeating character:\", result)"
      ],
      "metadata": {
        "colab": {
          "base_uri": "https://localhost:8080/"
        },
        "id": "Q3DzMqQgs49H",
        "outputId": "3d0c3096-c88e-49ec-e46e-26e615d8dea3"
      },
      "execution_count": 2,
      "outputs": [
        {
          "output_type": "stream",
          "name": "stdout",
          "text": [
            "Enter a string: applea\n",
            "First non-repeating character: l\n"
          ]
        }
      ]
    },
    {
      "cell_type": "code",
      "source": [],
      "metadata": {
        "id": "WgIPaGcls7em"
      },
      "execution_count": null,
      "outputs": []
    }
  ]
}